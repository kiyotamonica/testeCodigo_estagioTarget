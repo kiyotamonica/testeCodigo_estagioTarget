{
  "nbformat": 4,
  "nbformat_minor": 0,
  "metadata": {
    "colab": {
      "provenance": []
    },
    "kernelspec": {
      "name": "python3",
      "display_name": "Python 3"
    },
    "language_info": {
      "name": "python"
    }
  },
  "cells": [
    {
      "cell_type": "markdown",
      "source": [
        "##Questão 1"
      ],
      "metadata": {
        "id": "sHkHhknlXxyV"
      }
    },
    {
      "cell_type": "markdown",
      "source": [
        "Dado a sequência de Fibonacci, onde se inicia por 0 e 1, e o próximo valor sempre será a soma dos 2 valores anteriores (exemplo: 0, 1, 1, 2, 3, 5, 8, 13, 21, 34 ...), escreva um programa na linguagem que desejar onde, informado um número, ele calcule a sequência de Fibonnaci e retorne uma mensagem avisando se o número informado pertence ou não à sequência."
      ],
      "metadata": {
        "id": "UHNqrx7mWl31"
      }
    },
    {
      "cell_type": "code",
      "execution_count": 17,
      "metadata": {
        "id": "jZkd-Y4fWTNt",
        "colab": {
          "base_uri": "https://localhost:8080/"
        },
        "outputId": "cda99883-4d92-4809-eb54-592ec12fd0f0"
      },
      "outputs": [
        {
          "output_type": "stream",
          "name": "stdout",
          "text": [
            "Insira o valor a ser verificado: 35\n",
            "O número 35 NÃO faz parte da sequência de Fibonacci !\n"
          ]
        }
      ],
      "source": [
        "def sequencia_fibonacci(numero):\n",
        "  primeiro_numero, segundo_numero = 0, 1                                               #Esses são os números que irão iniciar a sequência, logo, caso o usuário insira 0 ou 1, já será detectado e retornará que faz parte da sequência.\n",
        "  if numero == 0 or numero == 1:\n",
        "    return True\n",
        "\n",
        "  while primeiro_numero <= numero:                                                     #Caso o número seja diferente de 0 e 1, cairá nesse laço while. Optei como critério de parada da sequência o próprio número inserido já que a sequência de fibonacci é infinita.\n",
        "    if primeiro_numero == numero or segundo_numero == numero:                          #Verifica se os numeros presentes nas duas variáveis são iguais ao valor inserido, caso sim, retornará TRUE, caso contrário a sequência terá continuidade.\n",
        "      return True                                                                      #Após percorrer todo o laço while sem retornar TRUE, o código sai do laço e retorna FALSE.\n",
        "    primeiro_numero, segundo_numero = segundo_numero, primeiro_numero + segundo_numero\n",
        "  return False\n",
        "\n",
        "numero_inserido = int(input(\"Insira o valor a ser verificado: \"))                      #Recebe o valor do usuário e já o transforma em inteiro.\n",
        "\n",
        "if sequencia_fibonacci(numero_inserido):                                               #Faz a chamada da função para verificar o valor e retornar a mensagem.\n",
        "  print(f\"O número {numero_inserido} faz parte da sequência de Fibonacci !\")\n",
        "else:\n",
        "  print(f\"O número {numero_inserido} NÃO faz parte da sequência de Fibonacci !\")\n"
      ]
    },
    {
      "cell_type": "markdown",
      "source": [
        "##Questão 2"
      ],
      "metadata": {
        "id": "-3Zw6S_UfPmf"
      }
    },
    {
      "cell_type": "code",
      "source": [
        "def verificar_letra(string):\n",
        "  string_minuscula = string.lower()                                                       #Para fazer a contagem tanto das maiúsculas e minúsculas, transformei tudo para minúscula de antemão.\n",
        "\n",
        "  quantidade_letra_a = string_minuscula.count('a')                                        #A função count irá contar a quantidade de caracteres 'a' e armazenar na variável quantidade_letra_a\n",
        "\n",
        "  if quantidade_letra_a > 0:                                                              #If/else para retornar o resultado.\n",
        "    print(f\"A letra 'A' apareceu {quantidade_letra_a} vezes na string inserida !\")\n",
        "  else:\n",
        "    print(\"A letra 'A' não apareceu nenhuma vez na string inserida !\")\n",
        "\n",
        "string_inserida = input(\"Insira a sua string aqui: \")                                     #Armazenamento da string e chamada da função.\n",
        "verificar_letra(string_inserida)"
      ],
      "metadata": {
        "colab": {
          "base_uri": "https://localhost:8080/"
        },
        "id": "XVUXJ6L5fZRz",
        "outputId": "fe6cc291-fb47-4d33-85dd-d575f08aadd0"
      },
      "execution_count": 12,
      "outputs": [
        {
          "output_type": "stream",
          "name": "stdout",
          "text": [
            "Insira a sua string aqui: A minha frase tem 5 letras A\n",
            "A letra 'A' apareceu 5 vezes na string inserida !\n"
          ]
        }
      ]
    },
    {
      "cell_type": "markdown",
      "source": [
        "##Questão 3"
      ],
      "metadata": {
        "id": "uP9Q_IXooVN9"
      }
    },
    {
      "cell_type": "markdown",
      "source": [
        "**Resposta:** Soma = 77"
      ],
      "metadata": {
        "id": "ATHj4kUPoddD"
      }
    },
    {
      "cell_type": "markdown",
      "source": [
        "##Questão 4"
      ],
      "metadata": {
        "id": "u0YMbUbKomPq"
      }
    },
    {
      "cell_type": "markdown",
      "source": [
        "**A:** 9 (sequência de números ímpares)  <br> **B:** 128 (o número anterior x2) <br> **C:** 49 (é sempre o quadrado do index em questão) <br> **D:** 100 (quadrado de números pares) <br> **E:** 13 (sequência de fibonacci) <br> **F:** 20 ? (não entendi uma lógica nessa sequência)"
      ],
      "metadata": {
        "id": "oawhulNcoq80"
      }
    },
    {
      "cell_type": "markdown",
      "source": [
        "##Questão 5"
      ],
      "metadata": {
        "id": "62cGAXXtskkO"
      }
    },
    {
      "cell_type": "markdown",
      "source": [
        "**Resposta:** Partindo do princípio que as lâmpadas esquentam quando acesas, podemos ligar o primeiro interruptor, esperar alguns minutos e então desligá-lo. Logo, ligamos o segundo interruptor. Vamos até a **primeira** das salas, e então analisamos:  \n",
        "\n",
        "*   caso a lâmpada esteja acesa, o interruptor 2 está conectado à sala 1.\n",
        "*   caso a lâmpada esteja apagada porém esquentada, o interruptor 1 está conectado à sala 1.\n",
        "* caso a lâmpada esteja apagada e fria, o interruptor 3 está conectado à sala 1.\n",
        "<br><br>Dessa forma, podemos visitar a **segunda** sala, e então faremos a mesma análise:\n",
        "\n",
        "*   caso a lâmpada esteja acesa, o interruptor 2 está conectado à sala 2.\n",
        "*   caso a lâmpada esteja apagada porém esquentada, o interruptor 1 está conectado à sala 2.\n",
        "* caso a lâmpada esteja apagada e fria, o interruptor 3 está conectado à sala 2.\n",
        "<br><br> O interruptor que restar, saberemos que pertence à sala 3.\n",
        "\n",
        "\n",
        "\n"
      ],
      "metadata": {
        "id": "wRaNd2k-sny_"
      }
    }
  ]
}