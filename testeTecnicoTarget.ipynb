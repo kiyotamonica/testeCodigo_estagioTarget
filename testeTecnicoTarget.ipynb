{
  "nbformat": 4,
  "nbformat_minor": 0,
  "metadata": {
    "colab": {
      "provenance": []
    },
    "kernelspec": {
      "name": "python3",
      "display_name": "Python 3"
    },
    "language_info": {
      "name": "python"
    }
  },
  "cells": [
    {
      "cell_type": "markdown",
      "source": [
        "##Questão 1"
      ],
      "metadata": {
        "id": "sHkHhknlXxyV"
      }
    },
    {
      "cell_type": "markdown",
      "source": [
        "Dado a sequência de Fibonacci, onde se inicia por 0 e 1, e o próximo valor sempre será a soma dos 2 valores anteriores (exemplo: 0, 1, 1, 2, 3, 5, 8, 13, 21, 34 ...), escreva um programa na linguagem que desejar onde, informado um número, ele calcule a sequência de Fibonnaci e retorne uma mensagem avisando se o número informado pertence ou não à sequência."
      ],
      "metadata": {
        "id": "UHNqrx7mWl31"
      }
    },
    {
      "cell_type": "code",
      "execution_count": 14,
      "metadata": {
        "id": "jZkd-Y4fWTNt",
        "colab": {
          "base_uri": "https://localhost:8080/"
        },
        "outputId": "9b939cc5-ccc0-45ce-a590-42a491f22ff9"
      },
      "outputs": [
        {
          "output_type": "stream",
          "name": "stdout",
          "text": [
            "Insira o valor a ser verificado: 35\n",
            "O número 35 NÃO faz parte da sequência de Fibonacci !\n"
          ]
        }
      ],
      "source": [
        "def sequencia_fibonacci(numero):\n",
        "  primeiro_numero, segundo_numero = 0, 1                                               #Esses são os números que irão iniciar a sequência, logo, caso o usuário insira 0 ou 1, já será detectado e retornará que faz parte da sequência.\n",
        "  if numero == 0 or numero == 1:\n",
        "    return True\n",
        "\n",
        "  while primeiro_numero <= numero:                                                     #Caso o número seja diferente de 0 e 1, cairá nesse laço while. Optei como critério de parada da sequência o próprio número inserido já que a sequência de fibonacci é infinita.\n",
        "    if primeiro_numero == numero or segundo_numero == numero:                          #Verifica se os numeros presentes nas duas variáveis são iguais ao valor inserido, caso sim, retornará TRUE, caso contrário a sequência terá continuidade.\n",
        "      return True                                                                      #Após percorrer todo o laço while sem retornar TRUE, o código sai do laço e retorna FALSE.\n",
        "    primeiro_numero, segundo_numero = segundo_numero, primeiro_numero + segundo_numero\n",
        "  return False\n",
        "\n",
        "numero_inserido = int(input(\"Insira o valor a ser verificado: \"))                      #Recebe o valor do usuário e já o transforma em inteiro.\n",
        "\n",
        "if sequencia_fibonacci(numero_inserido):                                               #Faz a chamada da função para verificar o valor e retornar a mensagem.\n",
        "  print(f\"O número {numero_inserido} faz parte da sequência de Fibonacci !\")\n",
        "else:\n",
        "  print(f\"O número {numero_inserido} NÃO faz parte da sequência de Fibonacci !\")\n"
      ]
    },
    {
      "cell_type": "markdown",
      "source": [
        "##Questão 2"
      ],
      "metadata": {
        "id": "-3Zw6S_UfPmf"
      }
    },
    {
      "cell_type": "code",
      "source": [
        "def verificar_letra(string):\n",
        "  string_minuscula = string.lower()                                                       #Para fazer a contagem tanto das maiúsculas e minúsculas, transformei tudo para minúscula de antemão.\n",
        "\n",
        "  quantidade_letra_a = string_minuscula.count('a')                                        #A função count irá contar a quantidade de caracteres 'a' e armazenar na variável quantidade_letra_a\n",
        "\n",
        "  if quantidade_letra_a > 0:                                                              #If/else para retornar o resultado.\n",
        "    print(f\"A letra 'A' apareceu {quantidade_letra_a} vezes na string inserida !\")\n",
        "  else:\n",
        "    print(\"A letra 'A' não apareceu nenhuma vez na string inserida !\")\n",
        "\n",
        "string_inserida = input(\"Insira a sua string aqui: \")                                     #Armazenamento da string e chamada da função.\n",
        "verificar_letra(string_inserida)"
      ],
      "metadata": {
        "colab": {
          "base_uri": "https://localhost:8080/"
        },
        "id": "XVUXJ6L5fZRz",
        "outputId": "fe6cc291-fb47-4d33-85dd-d575f08aadd0"
      },
      "execution_count": 12,
      "outputs": [
        {
          "output_type": "stream",
          "name": "stdout",
          "text": [
            "Insira a sua string aqui: A minha frase tem 5 letras A\n",
            "A letra 'A' apareceu 5 vezes na string inserida !\n"
          ]
        }
      ]
    }
  ]
}